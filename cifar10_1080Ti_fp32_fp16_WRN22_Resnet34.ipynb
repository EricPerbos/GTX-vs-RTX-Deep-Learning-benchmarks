{
 "cells": [
  {
   "cell_type": "code",
   "execution_count": 1,
   "metadata": {},
   "outputs": [],
   "source": [
    "%matplotlib inline\n",
    "from fastai import *\n",
    "from fastai.vision import *\n",
    "from fastai.vision.models.wrn import wrn_22\n",
    "\n",
    "torch.backends.cudnn.benchmark = True"
   ]
  },
  {
   "cell_type": "code",
   "execution_count": 9,
   "metadata": {},
   "outputs": [],
   "source": [
    "#from Init27 notebook, a generic training with \n",
    "#https://github.com/EricPerbos/RTX-2080Ti-Vs-GTX-1080Ti-CIFAR-100-Benchmarks/blob/master/1080Ti%20Notebook.ipynb\n",
    "\n",
    "import functools\n",
    "import traceback\n",
    "def get_ref_free_exc_info():\n",
    "    \"Free traceback from references to locals/globals to avoid circular reference leading to gc.collect() unable to reclaim memory\"\n",
    "    type, val, tb = sys.exc_info()\n",
    "    traceback.clear_frames(tb)\n",
    "    return (type, val, tb)\n",
    "\n",
    "def gpu_mem_restore(func):\n",
    "    \"Reclaim GPU RAM if CUDA out of memory happened, or execution was interrupted\"\n",
    "    @functools.wraps(func)\n",
    "    def wrapper(*args, **kwargs):\n",
    "        try:\n",
    "            return func(*args, **kwargs)\n",
    "        except:\n",
    "            type, val, tb = get_ref_free_exc_info() # must!\n",
    "            raise type(val).with_traceback(tb) from None\n",
    "    return wrapper"
   ]
  },
  {
   "cell_type": "code",
   "execution_count": 11,
   "metadata": {},
   "outputs": [],
   "source": [
    "class gpu_mem_restore_ctx():\n",
    "    \" context manager to reclaim GPU RAM if CUDA out of memory happened, or execution was interrupted\"\n",
    "    def __enter__(self): return self\n",
    "    def __exit__(self, exc_type, exc_val, exc_tb):\n",
    "        if not exc_val: return True\n",
    "        traceback.clear_frames(exc_tb)\n",
    "        raise exc_type(exc_val).with_traceback(exc_tb) from None"
   ]
  },
  {
   "cell_type": "code",
   "execution_count": 2,
   "metadata": {},
   "outputs": [
    {
     "data": {
      "text/plain": [
       "0"
      ]
     },
     "execution_count": 2,
     "metadata": {},
     "output_type": "execute_result"
    }
   ],
   "source": [
    "torch.cuda.set_device(0)\n",
    "torch.cuda.current_device()"
   ]
  },
  {
   "cell_type": "code",
   "execution_count": 3,
   "metadata": {},
   "outputs": [
    {
     "data": {
      "text/plain": [
       "'GeForce GTX 1080 Ti'"
      ]
     },
     "execution_count": 3,
     "metadata": {},
     "output_type": "execute_result"
    }
   ],
   "source": [
    "torch.cuda.get_device_name(0)"
   ]
  },
  {
   "cell_type": "code",
   "execution_count": 4,
   "metadata": {},
   "outputs": [
    {
     "data": {
      "text/plain": [
       "PosixPath('/home/eric/Link_fastaiV1/data/cifar10')"
      ]
     },
     "execution_count": 4,
     "metadata": {},
     "output_type": "execute_result"
    }
   ],
   "source": [
    "path = untar_data(URLs.CIFAR)\n",
    "path"
   ]
  },
  {
   "cell_type": "markdown",
   "metadata": {},
   "source": [
    "## WideResNet_22 in FP32\n",
    "https://docs.fast.ai/vision.models.html"
   ]
  },
  {
   "cell_type": "code",
   "execution_count": 5,
   "metadata": {},
   "outputs": [],
   "source": [
    "bs = 512"
   ]
  },
  {
   "cell_type": "code",
   "execution_count": 6,
   "metadata": {},
   "outputs": [],
   "source": [
    "ds_tfms = ([*rand_pad(4, 32), flip_lr(p=0.5)], [])\n",
    "data = ImageDataBunch.from_folder(path, valid='test', ds_tfms=ds_tfms, bs=bs).normalize(cifar_stats)"
   ]
  },
  {
   "cell_type": "code",
   "execution_count": 7,
   "metadata": {},
   "outputs": [],
   "source": [
    "learn = Learner(data, wrn_22(), metrics=accuracy)"
   ]
  },
  {
   "cell_type": "code",
   "execution_count": 8,
   "metadata": {},
   "outputs": [
    {
     "name": "stdout",
     "output_type": "stream",
     "text": [
      "Total time: 22:55\n",
      "epoch  train_loss  valid_loss  accuracy\n",
      "1      1.455381    1.565406    0.461500  (00:50)\n",
      "2      1.089067    1.129607    0.596500  (00:44)\n",
      "3      0.873657    0.865207    0.702100  (00:45)\n",
      "4      0.719008    0.672240    0.768100  (00:45)\n",
      "5      0.625094    0.739563    0.743600  (00:45)\n",
      "6      0.550976    0.557014    0.806600  (00:45)\n",
      "7      0.500237    0.782475    0.748300  (00:45)\n",
      "8      0.459986    0.648515    0.783100  (00:45)\n",
      "9      0.444404    0.747558    0.763800  (00:45)\n",
      "10     0.411688    0.632976    0.797500  (00:45)\n",
      "11     0.396282    0.475634    0.844800  (00:45)\n",
      "12     0.372070    0.533911    0.822000  (00:45)\n",
      "13     0.360920    0.491856    0.840000  (00:45)\n",
      "14     0.351502    0.486486    0.839900  (00:45)\n",
      "15     0.345132    0.666289    0.778700  (00:45)\n",
      "16     0.326271    0.667956    0.790000  (00:45)\n",
      "17     0.306654    0.455599    0.848500  (00:45)\n",
      "18     0.287279    0.362420    0.879300  (00:45)\n",
      "19     0.256889    0.599531    0.809600  (00:45)\n",
      "20     0.240356    0.425727    0.864300  (00:45)\n",
      "21     0.214708    0.383483    0.879100  (00:45)\n",
      "22     0.181926    0.287132    0.905000  (00:45)\n",
      "23     0.153684    0.310826    0.899700  (00:45)\n",
      "24     0.123921    0.253987    0.918800  (00:45)\n",
      "25     0.090780    0.273623    0.917600  (00:45)\n",
      "26     0.064991    0.251757    0.927900  (00:45)\n",
      "27     0.045129    0.230294    0.935000  (00:46)\n",
      "28     0.029397    0.230730    0.936700  (00:47)\n",
      "29     0.020986    0.222805    0.939700  (00:47)\n",
      "30     0.018958    0.223207    0.939200  (00:47)\n",
      "\n"
     ]
    }
   ],
   "source": [
    "learn.fit_one_cycle(30, 3e-3, wd=0.4, div_factor=10, pct_start=0.5)"
   ]
  },
  {
   "cell_type": "markdown",
   "metadata": {},
   "source": [
    "#### Using Init27 generic training."
   ]
  },
  {
   "cell_type": "code",
   "execution_count": 13,
   "metadata": {},
   "outputs": [],
   "source": [
    "bs = 512"
   ]
  },
  {
   "cell_type": "code",
   "execution_count": 14,
   "metadata": {},
   "outputs": [],
   "source": [
    "ds_tfms = ([*rand_pad(4, 32), flip_lr(p=0.5)], [])\n",
    "data = ImageDataBunch.from_folder(path, valid='test', ds_tfms=ds_tfms, bs=bs).normalize(cifar_stats)"
   ]
  },
  {
   "cell_type": "code",
   "execution_count": 15,
   "metadata": {},
   "outputs": [],
   "source": [
    "learn = Learner(data, wrn_22(), metrics=accuracy)"
   ]
  },
  {
   "cell_type": "code",
   "execution_count": 16,
   "metadata": {},
   "outputs": [
    {
     "name": "stdout",
     "output_type": "stream",
     "text": [
      "Total time: 23:37\n",
      "epoch  train_loss  valid_loss  accuracy\n",
      "1      1.486746    1.310544    0.533500  (00:44)\n",
      "2      1.114782    1.186048    0.588900  (00:46)\n",
      "3      0.873583    1.413428    0.567500  (00:46)\n",
      "4      0.722459    0.833492    0.718000  (00:46)\n",
      "5      0.620652    0.759559    0.757600  (00:46)\n",
      "6      0.557817    0.848302    0.734200  (00:46)\n",
      "7      0.491300    0.536562    0.819200  (00:46)\n",
      "8      0.454952    0.639612    0.801100  (00:46)\n",
      "9      0.415620    0.565566    0.816300  (00:48)\n",
      "10     0.381543    0.582206    0.813500  (00:47)\n",
      "11     0.341282    0.504624    0.839600  (00:47)\n",
      "12     0.315171    0.488063    0.839500  (00:46)\n",
      "13     0.276689    0.372598    0.881700  (00:46)\n",
      "14     0.248158    0.335076    0.888800  (00:46)\n",
      "15     0.224190    0.328903    0.895700  (00:47)\n",
      "16     0.193702    0.388996    0.886600  (00:47)\n",
      "17     0.167116    0.348772    0.895500  (00:47)\n",
      "18     0.143342    0.344119    0.900300  (00:47)\n",
      "19     0.122058    0.359529    0.895800  (00:47)\n",
      "20     0.100457    0.308205    0.914000  (00:46)\n",
      "21     0.080936    0.309608    0.913900  (00:47)\n",
      "22     0.066415    0.298595    0.922900  (00:49)\n",
      "23     0.053095    0.305133    0.921600  (00:49)\n",
      "24     0.039542    0.300001    0.926200  (00:46)\n",
      "25     0.029899    0.290640    0.929300  (00:47)\n",
      "26     0.022393    0.277698    0.934600  (00:47)\n",
      "27     0.016380    0.287576    0.936000  (00:47)\n",
      "28     0.013076    0.288694    0.935100  (00:47)\n",
      "29     0.011201    0.285165    0.936700  (00:47)\n",
      "30     0.010316    0.285473    0.936800  (00:47)\n",
      "\n"
     ]
    }
   ],
   "source": [
    "# Init27 version:\n",
    "with gpu_mem_restore_ctx():\n",
    "    learn.fit_one_cycle(30)"
   ]
  },
  {
   "cell_type": "markdown",
   "metadata": {},
   "source": [
    "## WideResNet_22 in FP16 (Mixed-Precision)\n",
    "https://docs.fast.ai/vision.models.html"
   ]
  },
  {
   "cell_type": "code",
   "execution_count": 17,
   "metadata": {},
   "outputs": [],
   "source": [
    "bs = 512"
   ]
  },
  {
   "cell_type": "code",
   "execution_count": 18,
   "metadata": {},
   "outputs": [],
   "source": [
    "ds_tfms = ([*rand_pad(4, 32), flip_lr(p=0.5)], [])\n",
    "data = ImageDataBunch.from_folder(path, valid='test', ds_tfms=ds_tfms, bs=bs).normalize(cifar_stats)"
   ]
  },
  {
   "cell_type": "code",
   "execution_count": 19,
   "metadata": {},
   "outputs": [],
   "source": [
    "learn = Learner(data, wrn_22(), metrics=accuracy).to_fp16()"
   ]
  },
  {
   "cell_type": "code",
   "execution_count": 20,
   "metadata": {},
   "outputs": [
    {
     "name": "stdout",
     "output_type": "stream",
     "text": [
      "Total time: 22:04\n",
      "epoch  train_loss  valid_loss  accuracy\n",
      "1      1.482857    1.366357    0.510600  (00:48)\n",
      "2      1.100611    1.357880    0.565700  (00:44)\n",
      "3      0.884122    1.040865    0.650400  (00:42)\n",
      "4      0.716015    1.024709    0.680900  (00:43)\n",
      "5      0.621266    1.177766    0.649500  (00:43)\n",
      "6      0.551212    0.794662    0.734500  (00:43)\n",
      "7      0.497174    1.118847    0.692100  (00:42)\n",
      "8      0.460304    0.800202    0.749400  (00:43)\n",
      "9      0.427465    0.978180    0.711300  (00:43)\n",
      "10     0.390403    0.567522    0.816200  (00:43)\n",
      "11     0.347311    0.515598    0.833200  (00:43)\n",
      "12     0.310705    0.622131    0.816600  (00:44)\n",
      "13     0.281159    0.507776    0.841100  (00:44)\n",
      "14     0.252079    0.340388    0.886400  (00:43)\n",
      "15     0.217083    0.480148    0.856400  (00:43)\n",
      "16     0.195928    0.348758    0.893600  (00:44)\n",
      "17     0.167910    0.328058    0.900400  (00:44)\n",
      "18     0.141568    0.304546    0.907600  (00:44)\n",
      "19     0.124718    0.348586    0.904800  (00:44)\n",
      "20     0.100375    0.303222    0.912800  (00:44)\n",
      "21     0.079530    0.305251    0.916500  (00:44)\n",
      "22     0.065892    0.294178    0.922700  (00:45)\n",
      "23     0.048412    0.270637    0.928800  (00:44)\n",
      "24     0.037860    0.263222    0.930800  (00:44)\n",
      "25     0.028480    0.270633    0.932400  (00:44)\n",
      "26     0.022020    0.277709    0.934500  (00:43)\n",
      "27     0.015933    0.273186    0.935100  (00:43)\n",
      "28     0.012387    0.276164    0.937500  (00:43)\n",
      "29     0.012327    0.273686    0.936700  (00:43)\n",
      "30     0.009917    0.274717    0.936800  (00:44)\n",
      "\n"
     ]
    }
   ],
   "source": [
    "with gpu_mem_restore_ctx():\n",
    "    learn.fit_one_cycle(30)"
   ]
  },
  {
   "cell_type": "markdown",
   "metadata": {},
   "source": [
    "Let's try if FP16 allows for a larger batch_size on a GTX 1080Ti.\n",
    "\n",
    "*(it's not supposed to in theory, FP16 only works with the Tensor Cores of the new RTX cards, according to Nvidia marketing...)*."
   ]
  },
  {
   "cell_type": "code",
   "execution_count": 21,
   "metadata": {},
   "outputs": [],
   "source": [
    "bs = 1024"
   ]
  },
  {
   "cell_type": "code",
   "execution_count": 22,
   "metadata": {},
   "outputs": [],
   "source": [
    "ds_tfms = ([*rand_pad(4, 32), flip_lr(p=0.5)], [])\n",
    "data = ImageDataBunch.from_folder(path, valid='test', ds_tfms=ds_tfms, bs=bs).normalize(cifar_stats)"
   ]
  },
  {
   "cell_type": "code",
   "execution_count": 23,
   "metadata": {},
   "outputs": [],
   "source": [
    "learn = Learner(data, wrn_22(), metrics=accuracy).to_fp16()"
   ]
  },
  {
   "cell_type": "code",
   "execution_count": 24,
   "metadata": {},
   "outputs": [
    {
     "name": "stdout",
     "output_type": "stream",
     "text": [
      "Total time: 21:52\n",
      "epoch  train_loss  valid_loss  accuracy\n",
      "1      1.707921    1.660548    0.380100  (00:54)\n",
      "2      1.351769    1.201732    0.572700  (00:43)\n",
      "3      1.102821    1.404987    0.544700  (00:43)\n",
      "4      0.910935    1.226915    0.583400  (00:42)\n",
      "5      0.768682    1.129752    0.651300  (00:42)\n",
      "6      0.655608    1.436298    0.584900  (00:42)\n",
      "7      0.571285    2.841699    0.478600  (00:42)\n",
      "8      0.512306    0.855302    0.733500  (00:42)\n",
      "9      0.461308    0.633544    0.796100  (00:42)\n",
      "10     0.416123    0.711148    0.790200  (00:42)\n",
      "11     0.379831    0.759356    0.767500  (00:44)\n",
      "12     0.339906    0.681459    0.791600  (00:43)\n",
      "13     0.307886    0.621493    0.816700  (00:43)\n",
      "14     0.279879    0.475473    0.847900  (00:44)\n",
      "15     0.245759    0.399877    0.876900  (00:44)\n",
      "16     0.219292    0.373359    0.885700  (00:43)\n",
      "17     0.195365    0.407256    0.874700  (00:44)\n",
      "18     0.172704    0.362101    0.889200  (00:44)\n",
      "19     0.147960    0.373115    0.890100  (00:42)\n",
      "20     0.123536    0.366124    0.895100  (00:42)\n",
      "21     0.103542    0.285698    0.913900  (00:43)\n",
      "22     0.083998    0.284578    0.917300  (00:43)\n",
      "23     0.067122    0.288366    0.921400  (00:43)\n",
      "24     0.051323    0.292620    0.924300  (00:44)\n",
      "25     0.040084    0.274164    0.927100  (00:44)\n",
      "26     0.030927    0.292381    0.928100  (00:42)\n",
      "27     0.023512    0.274413    0.931500  (00:42)\n",
      "28     0.019009    0.269921    0.933500  (00:42)\n",
      "29     0.015648    0.270026    0.933000  (00:42)\n",
      "30     0.013904    0.270391    0.933200  (00:43)\n",
      "\n"
     ]
    }
   ],
   "source": [
    "with gpu_mem_restore_ctx():\n",
    "    learn.fit_one_cycle(30)"
   ]
  },
  {
   "cell_type": "markdown",
   "metadata": {},
   "source": [
    "## ResNet 34 in FP32\n"
   ]
  },
  {
   "cell_type": "code",
   "execution_count": 37,
   "metadata": {},
   "outputs": [],
   "source": [
    "bs = 256"
   ]
  },
  {
   "cell_type": "code",
   "execution_count": 38,
   "metadata": {},
   "outputs": [],
   "source": [
    "ds_tfms = ([*rand_pad(4, 32), flip_lr(p=0.5)], [])\n",
    "data = ImageDataBunch.from_folder(path, valid='test', ds_tfms=ds_tfms, bs=bs).normalize(cifar_stats)"
   ]
  },
  {
   "cell_type": "code",
   "execution_count": 39,
   "metadata": {},
   "outputs": [],
   "source": [
    "learn = create_cnn(data, models.resnet34, metrics=accuracy)"
   ]
  },
  {
   "cell_type": "code",
   "execution_count": 40,
   "metadata": {},
   "outputs": [
    {
     "name": "stdout",
     "output_type": "stream",
     "text": [
      "Total time: 05:00\n",
      "epoch  train_loss  valid_loss  accuracy\n",
      "1      1.903524    1.575454    0.459800  (00:10)\n",
      "2      1.525152    1.312011    0.542300  (00:09)\n",
      "3      1.299418    1.145065    0.590900  (00:09)\n",
      "4      1.130673    1.010769    0.639600  (00:09)\n",
      "5      1.041472    0.919672    0.669100  (00:09)\n",
      "6      0.960568    0.843034    0.702100  (00:10)\n",
      "7      0.897726    0.814014    0.714800  (00:09)\n",
      "8      0.868248    0.766644    0.731000  (00:09)\n",
      "9      0.829007    0.740382    0.738700  (00:09)\n",
      "10     0.794627    0.701024    0.752900  (00:09)\n",
      "11     0.766401    0.691995    0.755700  (00:09)\n",
      "12     0.758658    0.682084    0.760000  (00:10)\n",
      "13     0.740958    0.662152    0.765000  (00:09)\n",
      "14     0.721740    0.654098    0.766600  (00:10)\n",
      "15     0.706843    0.637763    0.775500  (00:10)\n",
      "16     0.688595    0.639393    0.776100  (00:09)\n",
      "17     0.683826    0.623874    0.783700  (00:10)\n",
      "18     0.676737    0.618360    0.782900  (00:10)\n",
      "19     0.660001    0.611963    0.783500  (00:10)\n",
      "20     0.649719    0.609775    0.785000  (00:10)\n",
      "21     0.656350    0.605601    0.785900  (00:09)\n",
      "22     0.644544    0.602904    0.785800  (00:09)\n",
      "23     0.631404    0.596471    0.790900  (00:10)\n",
      "24     0.624265    0.594469    0.791500  (00:09)\n",
      "25     0.620858    0.593734    0.789400  (00:09)\n",
      "26     0.622078    0.594074    0.790400  (00:10)\n",
      "27     0.614623    0.589887    0.790100  (00:09)\n",
      "28     0.611912    0.589374    0.792600  (00:09)\n",
      "29     0.605530    0.588388    0.792400  (00:10)\n",
      "30     0.602661    0.588517    0.792200  (00:10)\n",
      "\n"
     ]
    }
   ],
   "source": [
    "with gpu_mem_restore_ctx():\n",
    "    learn.fit_one_cycle(30)"
   ]
  },
  {
   "cell_type": "markdown",
   "metadata": {},
   "source": [
    "## ResNet 34 in FP16\n"
   ]
  },
  {
   "cell_type": "markdown",
   "metadata": {},
   "source": [
    "##### Note: temporarily using Init27 code from his GH notebook"
   ]
  },
  {
   "cell_type": "code",
   "execution_count": 60,
   "metadata": {},
   "outputs": [],
   "source": [
    "bs = 512"
   ]
  },
  {
   "cell_type": "code",
   "execution_count": 61,
   "metadata": {},
   "outputs": [],
   "source": [
    "np.random.seed(42)\n",
    "data = ImageDataBunch.from_folder(path, valid_pct=0.2,\n",
    "        ds_tfms=get_transforms(), size=224, num_workers=4, bs=bs).normalize(cifar_stats)"
   ]
  },
  {
   "cell_type": "raw",
   "metadata": {},
   "source": [
    "ds_tfms = ([*rand_pad(4, 32), flip_lr(p=0.5)], [])\n",
    "data = ImageDataBunch.from_folder(path, valid='test', ds_tfms=ds_tfms, bs=bs).normalize(cifar_stats)"
   ]
  },
  {
   "cell_type": "code",
   "execution_count": 62,
   "metadata": {},
   "outputs": [],
   "source": [
    "learn = create_cnn(data, models.resnet34, metrics=accuracy).to_fp16()"
   ]
  },
  {
   "cell_type": "code",
   "execution_count": 63,
   "metadata": {},
   "outputs": [
    {
     "name": "stdout",
     "output_type": "stream",
     "text": [
      "Total time: 48:40\n",
      "epoch  train_loss  valid_loss  accuracy\n",
      "1      1.273838    0.593700    0.803167  (01:44)\n",
      "2      0.691573    0.350773    0.880917  (01:39)\n",
      "3      0.445259    0.257182    0.913417  (01:38)\n",
      "4      0.330243    0.208854    0.931500  (01:40)\n",
      "5      0.267394    0.182757    0.938333  (01:39)\n",
      "6      0.232294    0.169746    0.940500  (01:38)\n",
      "7      0.206453    0.159884    0.945000  (01:38)\n",
      "8      0.186955    0.154321    0.948583  (01:38)\n",
      "9      0.179224    0.145601    0.951667  (01:38)\n",
      "10     0.167452    0.142818    0.953917  (01:37)\n",
      "11     0.157094    0.138956    0.954750  (01:37)\n",
      "12     0.146853    0.136196    0.954167  (01:36)\n",
      "13     0.142043    0.133387    0.954250  (01:37)\n",
      "14     0.136752    0.125431    0.958917  (01:37)\n",
      "15     0.126130    0.127923    0.957500  (01:37)\n",
      "16     0.121769    0.120689    0.958667  (01:38)\n",
      "17     0.114473    0.121626    0.959833  (01:37)\n",
      "18     0.110525    0.121856    0.960083  (01:37)\n",
      "19     0.103957    0.122863    0.960750  (01:37)\n",
      "20     0.098544    0.118125    0.961250  (01:37)\n",
      "21     0.097950    0.112664    0.962417  (01:34)\n",
      "22     0.093549    0.112523    0.961167  (01:35)\n",
      "23     0.086740    0.113882    0.962000  (01:35)\n",
      "24     0.085257    0.113992    0.963000  (01:35)\n",
      "25     0.080818    0.112556    0.962583  (01:34)\n",
      "26     0.080269    0.112761    0.962500  (01:35)\n",
      "27     0.078980    0.111834    0.962667  (01:35)\n",
      "28     0.079288    0.110837    0.963417  (01:35)\n",
      "29     0.077883    0.111529    0.962917  (01:35)\n",
      "30     0.075086    0.111472    0.962750  (01:35)\n",
      "\n"
     ]
    }
   ],
   "source": [
    "with gpu_mem_restore_ctx():\n",
    "    learn.fit_one_cycle(30)"
   ]
  },
  {
   "cell_type": "markdown",
   "metadata": {},
   "source": [
    "##### Back to my original code (source Fastai v1.0 GH)"
   ]
  },
  {
   "cell_type": "code",
   "execution_count": 65,
   "metadata": {},
   "outputs": [],
   "source": [
    "bs = 512"
   ]
  },
  {
   "cell_type": "code",
   "execution_count": 66,
   "metadata": {},
   "outputs": [],
   "source": [
    "ds_tfms = ([*rand_pad(4, 32), flip_lr(p=0.5)], [])\n",
    "data = ImageDataBunch.from_folder(path, valid='test', ds_tfms=ds_tfms, bs=bs).normalize(cifar_stats)"
   ]
  },
  {
   "cell_type": "code",
   "execution_count": 67,
   "metadata": {},
   "outputs": [],
   "source": [
    "learn = create_cnn(data, models.resnet34, metrics=accuracy).to_fp16()"
   ]
  },
  {
   "cell_type": "code",
   "execution_count": 68,
   "metadata": {
    "scrolled": true
   },
   "outputs": [
    {
     "name": "stdout",
     "output_type": "stream",
     "text": [
      "Total time: 04:50\n",
      "epoch  train_loss  valid_loss  accuracy\n",
      "1      2.098484    1.662046    0.434300  (00:09)\n",
      "2      1.714002    1.390969    0.517400  (00:10)\n",
      "3      1.462106    1.228116    0.567800  (00:09)\n",
      "4      1.282736    1.098585    0.611700  (00:09)\n",
      "5      1.151833    1.001352    0.641400  (00:09)\n",
      "6      1.052983    0.932771    0.667100  (00:09)\n",
      "7      0.979860    0.867787    0.694300  (00:09)\n",
      "8      0.920166    0.824125    0.708500  (00:09)\n",
      "9      0.868191    0.778441    0.726700  (00:09)\n",
      "10     0.835321    0.747957    0.737500  (00:09)\n",
      "11     0.803417    0.729577    0.743100  (00:09)\n",
      "12     0.779405    0.706350    0.747300  (00:09)\n",
      "13     0.758510    0.700714    0.748600  (00:09)\n",
      "14     0.745068    0.677067    0.764300  (00:09)\n",
      "15     0.728893    0.666314    0.765600  (00:09)\n",
      "16     0.711512    0.661447    0.764400  (00:09)\n",
      "17     0.696236    0.655620    0.768800  (00:09)\n",
      "18     0.692409    0.647173    0.772000  (00:09)\n",
      "19     0.675899    0.649554    0.770700  (00:09)\n",
      "20     0.673292    0.638839    0.775000  (00:09)\n",
      "21     0.660902    0.630166    0.777100  (00:09)\n",
      "22     0.654506    0.628399    0.775000  (00:09)\n",
      "23     0.650827    0.628236    0.778000  (00:09)\n",
      "24     0.645971    0.625748    0.778300  (00:09)\n",
      "25     0.635042    0.621444    0.778100  (00:09)\n",
      "26     0.630121    0.618287    0.780300  (00:09)\n",
      "27     0.626659    0.620918    0.779600  (00:09)\n",
      "28     0.632390    0.619135    0.781500  (00:09)\n",
      "29     0.628315    0.617956    0.780600  (00:09)\n",
      "30     0.626206    0.620789    0.781200  (00:09)\n",
      "\n"
     ]
    }
   ],
   "source": [
    "with gpu_mem_restore_ctx():\n",
    "    learn.fit_one_cycle(30)"
   ]
  },
  {
   "cell_type": "code",
   "execution_count": null,
   "metadata": {},
   "outputs": [],
   "source": []
  },
  {
   "cell_type": "code",
   "execution_count": null,
   "metadata": {},
   "outputs": [],
   "source": []
  },
  {
   "cell_type": "code",
   "execution_count": null,
   "metadata": {},
   "outputs": [],
   "source": []
  },
  {
   "cell_type": "code",
   "execution_count": null,
   "metadata": {},
   "outputs": [],
   "source": []
  },
  {
   "cell_type": "code",
   "execution_count": null,
   "metadata": {},
   "outputs": [],
   "source": []
  },
  {
   "cell_type": "code",
   "execution_count": null,
   "metadata": {},
   "outputs": [],
   "source": []
  },
  {
   "cell_type": "code",
   "execution_count": null,
   "metadata": {},
   "outputs": [],
   "source": []
  },
  {
   "cell_type": "code",
   "execution_count": null,
   "metadata": {},
   "outputs": [],
   "source": []
  },
  {
   "cell_type": "code",
   "execution_count": null,
   "metadata": {},
   "outputs": [],
   "source": []
  },
  {
   "cell_type": "code",
   "execution_count": null,
   "metadata": {},
   "outputs": [],
   "source": []
  },
  {
   "cell_type": "code",
   "execution_count": null,
   "metadata": {},
   "outputs": [],
   "source": []
  },
  {
   "cell_type": "code",
   "execution_count": 5,
   "metadata": {},
   "outputs": [],
   "source": [
    "bs = 512"
   ]
  },
  {
   "cell_type": "code",
   "execution_count": null,
   "metadata": {},
   "outputs": [],
   "source": []
  },
  {
   "cell_type": "code",
   "execution_count": null,
   "metadata": {},
   "outputs": [],
   "source": []
  }
 ],
 "metadata": {
  "kernelspec": {
   "display_name": "Python 3",
   "language": "python",
   "name": "python3"
  },
  "language_info": {
   "codemirror_mode": {
    "name": "ipython",
    "version": 3
   },
   "file_extension": ".py",
   "mimetype": "text/x-python",
   "name": "python",
   "nbconvert_exporter": "python",
   "pygments_lexer": "ipython3",
   "version": "3.7.0"
  }
 },
 "nbformat": 4,
 "nbformat_minor": 2
}
