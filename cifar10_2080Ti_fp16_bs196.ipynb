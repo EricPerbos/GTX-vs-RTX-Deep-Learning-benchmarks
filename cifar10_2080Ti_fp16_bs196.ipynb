{
 "cells": [
  {
   "cell_type": "code",
   "execution_count": 1,
   "metadata": {},
   "outputs": [],
   "source": [
    "%matplotlib inline\n",
    "from fastai import *\n",
    "from fastai.vision import *\n",
    "from fastai.vision.models.wrn import wrn_22\n",
    "\n",
    "torch.backends.cudnn.benchmark = True"
   ]
  },
  {
   "cell_type": "code",
   "execution_count": 2,
   "metadata": {},
   "outputs": [
    {
     "data": {
      "text/plain": [
       "0"
      ]
     },
     "execution_count": 2,
     "metadata": {},
     "output_type": "execute_result"
    }
   ],
   "source": [
    "torch.cuda.set_device(0)\n",
    "torch.cuda.current_device()"
   ]
  },
  {
   "cell_type": "code",
   "execution_count": 3,
   "metadata": {},
   "outputs": [
    {
     "data": {
      "text/plain": [
       "'GeForce RTX 2080 Ti'"
      ]
     },
     "execution_count": 3,
     "metadata": {},
     "output_type": "execute_result"
    }
   ],
   "source": [
    "torch.cuda.get_device_name(0)"
   ]
  },
  {
   "cell_type": "code",
   "execution_count": 4,
   "metadata": {},
   "outputs": [
    {
     "data": {
      "text/plain": [
       "PosixPath('/home/eric/Link_fastaiV1/data/cifar10')"
      ]
     },
     "execution_count": 4,
     "metadata": {},
     "output_type": "execute_result"
    }
   ],
   "source": [
    "path = untar_data(URLs.CIFAR)\n",
    "path"
   ]
  },
  {
   "cell_type": "code",
   "execution_count": 5,
   "metadata": {},
   "outputs": [],
   "source": [
    "bs = 248"
   ]
  },
  {
   "cell_type": "code",
   "execution_count": 6,
   "metadata": {},
   "outputs": [],
   "source": [
    "ds_tfms = ([*rand_pad(4, 32), flip_lr(p=0.5)], [])\n",
    "data = ImageDataBunch.from_folder(path, valid='test', ds_tfms=ds_tfms, bs=bs).normalize(cifar_stats)"
   ]
  },
  {
   "cell_type": "code",
   "execution_count": 7,
   "metadata": {},
   "outputs": [],
   "source": [
    "learn = Learner(data, wrn_22(), metrics=accuracy).to_fp16()"
   ]
  },
  {
   "cell_type": "code",
   "execution_count": 9,
   "metadata": {},
   "outputs": [
    {
     "name": "stdout",
     "output_type": "stream",
     "text": [
      "Total time: 15:35\n",
      "epoch  train_loss  valid_loss  accuracy\n",
      "1      1.236806    1.549838    0.465700  (00:32)\n",
      "2      0.910115    1.153257    0.609000  (00:30)\n",
      "3      0.755060    0.808601    0.727900  (00:30)\n",
      "4      0.631118    0.845269    0.721200  (00:30)\n",
      "5      0.574844    0.962348    0.688700  (00:30)\n",
      "6      0.515332    0.760913    0.750200  (00:31)\n",
      "7      0.486239    0.656839    0.780800  (00:31)\n",
      "8      0.461414    0.649825    0.776000  (00:31)\n",
      "9      0.443384    0.626629    0.792600  (00:31)\n",
      "10     0.431537    0.505358    0.828600  (00:31)\n",
      "11     0.406357    0.551001    0.816600  (00:31)\n",
      "12     0.407539    0.717522    0.770200  (00:31)\n",
      "13     0.400962    0.631334    0.790000  (00:31)\n",
      "14     0.399973    0.719572    0.757900  (00:31)\n",
      "15     0.397835    0.714016    0.767500  (00:31)\n",
      "16     0.393419    0.621526    0.786400  (00:31)\n",
      "17     0.381658    0.582794    0.801700  (00:31)\n",
      "18     0.367655    0.582588    0.812700  (00:31)\n",
      "19     0.338578    0.547720    0.817600  (00:31)\n",
      "20     0.318153    0.532847    0.830200  (00:31)\n",
      "21     0.282844    0.490533    0.846100  (00:31)\n",
      "22     0.252300    0.437783    0.857400  (00:31)\n",
      "23     0.221982    0.334807    0.887700  (00:31)\n",
      "24     0.189568    0.335054    0.891300  (00:31)\n",
      "25     0.145161    0.243198    0.919400  (00:31)\n",
      "26     0.098907    0.231232    0.928700  (00:31)\n",
      "27     0.073037    0.209476    0.937000  (00:31)\n",
      "28     0.044110    0.199420    0.941500  (00:31)\n",
      "29     0.033648    0.192571    0.942400  (00:31)\n",
      "30     0.025561    0.189770    0.944600  (00:31)\n",
      "\n"
     ]
    }
   ],
   "source": [
    "learn.fit_one_cycle(30, 3e-3, wd=0.4, div_factor=10, pct_start=0.5)"
   ]
  },
  {
   "cell_type": "code",
   "execution_count": null,
   "metadata": {},
   "outputs": [],
   "source": []
  }
 ],
 "metadata": {
  "kernelspec": {
   "display_name": "Python 3",
   "language": "python",
   "name": "python3"
  },
  "language_info": {
   "codemirror_mode": {
    "name": "ipython",
    "version": 3
   },
   "file_extension": ".py",
   "mimetype": "text/x-python",
   "name": "python",
   "nbconvert_exporter": "python",
   "pygments_lexer": "ipython3",
   "version": "3.7.0"
  }
 },
 "nbformat": 4,
 "nbformat_minor": 2
}
