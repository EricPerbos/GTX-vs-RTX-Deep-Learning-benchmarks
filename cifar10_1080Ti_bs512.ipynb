{
 "cells": [
  {
   "cell_type": "code",
   "execution_count": 1,
   "metadata": {},
   "outputs": [],
   "source": [
    "%matplotlib inline\n",
    "from fastai import *\n",
    "from fastai.vision import *\n",
    "from fastai.vision.models.wrn import wrn_22\n",
    "\n",
    "torch.backends.cudnn.benchmark = True"
   ]
  },
  {
   "cell_type": "code",
   "execution_count": 2,
   "metadata": {},
   "outputs": [
    {
     "data": {
      "text/plain": [
       "1"
      ]
     },
     "execution_count": 2,
     "metadata": {},
     "output_type": "execute_result"
    }
   ],
   "source": [
    "torch.cuda.set_device(1)\n",
    "torch.cuda.current_device()"
   ]
  },
  {
   "cell_type": "code",
   "execution_count": 3,
   "metadata": {},
   "outputs": [
    {
     "data": {
      "text/plain": [
       "'GeForce GTX 1080 Ti'"
      ]
     },
     "execution_count": 3,
     "metadata": {},
     "output_type": "execute_result"
    }
   ],
   "source": [
    "torch.cuda.get_device_name(1)"
   ]
  },
  {
   "cell_type": "code",
   "execution_count": 4,
   "metadata": {},
   "outputs": [
    {
     "data": {
      "text/plain": [
       "PosixPath('/home/eric/Link_fastaiV1/data/cifar10')"
      ]
     },
     "execution_count": 4,
     "metadata": {},
     "output_type": "execute_result"
    }
   ],
   "source": [
    "path = untar_data(URLs.CIFAR)\n",
    "path"
   ]
  },
  {
   "cell_type": "code",
   "execution_count": 5,
   "metadata": {},
   "outputs": [],
   "source": [
    "bs = 512"
   ]
  },
  {
   "cell_type": "code",
   "execution_count": 6,
   "metadata": {},
   "outputs": [],
   "source": [
    "ds_tfms = ([*rand_pad(4, 32), flip_lr(p=0.5)], [])\n",
    "data = ImageDataBunch.from_folder(path, valid='test', ds_tfms=ds_tfms, bs=bs).normalize(cifar_stats)"
   ]
  },
  {
   "cell_type": "code",
   "execution_count": 7,
   "metadata": {},
   "outputs": [],
   "source": [
    "learn = Learner(data, wrn_22(), metrics=accuracy)"
   ]
  },
  {
   "cell_type": "code",
   "execution_count": 8,
   "metadata": {},
   "outputs": [
    {
     "name": "stdout",
     "output_type": "stream",
     "text": [
      "Total time: 24:59\n",
      "epoch  train_loss  valid_loss  accuracy\n",
      "1      1.408349    1.363825    0.518600  (00:54)\n",
      "2      1.057069    0.984177    0.639500  (00:49)\n",
      "3      0.863370    0.859075    0.695800  (00:49)\n",
      "4      0.718011    1.125577    0.621900  (00:49)\n",
      "5      0.623266    0.915369    0.712100  (00:49)\n",
      "6      0.554730    0.687612    0.772200  (00:50)\n",
      "7      0.501107    0.730165    0.749900  (00:50)\n",
      "8      0.463948    0.947889    0.719500  (00:50)\n",
      "9      0.428614    0.581118    0.804600  (00:50)\n",
      "10     0.407550    0.519038    0.824800  (00:50)\n",
      "11     0.398337    0.617480    0.794400  (00:50)\n",
      "12     0.369342    0.712061    0.779000  (00:49)\n",
      "13     0.357739    0.455488    0.844200  (00:49)\n",
      "14     0.342932    0.603573    0.807200  (00:49)\n",
      "15     0.340037    0.440473    0.847600  (00:49)\n",
      "16     0.325717    0.406985    0.863200  (00:49)\n",
      "17     0.302265    0.575226    0.820500  (00:49)\n",
      "18     0.282440    0.436857    0.850200  (00:49)\n",
      "19     0.257139    0.366874    0.878300  (00:49)\n",
      "20     0.234425    0.377354    0.876500  (00:49)\n",
      "21     0.206483    0.439038    0.863900  (00:49)\n",
      "22     0.177073    0.326241    0.896700  (00:50)\n",
      "23     0.147388    0.309606    0.898600  (00:50)\n",
      "24     0.121876    0.255638    0.918600  (00:49)\n",
      "25     0.087737    0.271189    0.917700  (00:49)\n",
      "26     0.062200    0.258028    0.928300  (00:49)\n",
      "27     0.042977    0.230907    0.934300  (00:49)\n",
      "28     0.028505    0.219637    0.938300  (00:49)\n",
      "29     0.020449    0.216196    0.940000  (00:50)\n",
      "30     0.017890    0.216752    0.940300  (00:49)\n",
      "\n"
     ]
    }
   ],
   "source": [
    "learn.fit_one_cycle(30, 3e-3, wd=0.4, div_factor=10, pct_start=0.5)"
   ]
  },
  {
   "cell_type": "code",
   "execution_count": null,
   "metadata": {},
   "outputs": [],
   "source": []
  }
 ],
 "metadata": {
  "kernelspec": {
   "display_name": "Python 3",
   "language": "python",
   "name": "python3"
  },
  "language_info": {
   "codemirror_mode": {
    "name": "ipython",
    "version": 3
   },
   "file_extension": ".py",
   "mimetype": "text/x-python",
   "name": "python",
   "nbconvert_exporter": "python",
   "pygments_lexer": "ipython3",
   "version": "3.7.0"
  }
 },
 "nbformat": 4,
 "nbformat_minor": 2
}
