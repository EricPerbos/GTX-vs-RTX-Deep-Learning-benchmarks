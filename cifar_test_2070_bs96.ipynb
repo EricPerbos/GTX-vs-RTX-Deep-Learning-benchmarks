{
 "cells": [
  {
   "cell_type": "code",
   "execution_count": 1,
   "metadata": {},
   "outputs": [],
   "source": [
    "%matplotlib inline\n",
    "from fastai import *\n",
    "from fastai.vision import *\n",
    "from fastai.vision.models.wrn import wrn_22\n",
    "\n",
    "torch.backends.cudnn.benchmark = True"
   ]
  },
  {
   "cell_type": "code",
   "execution_count": 2,
   "metadata": {},
   "outputs": [
    {
     "data": {
      "text/plain": [
       "0"
      ]
     },
     "execution_count": 2,
     "metadata": {},
     "output_type": "execute_result"
    }
   ],
   "source": [
    "torch.cuda.set_device(0)\n",
    "torch.cuda.current_device()"
   ]
  },
  {
   "cell_type": "code",
   "execution_count": 3,
   "metadata": {},
   "outputs": [
    {
     "data": {
      "text/plain": [
       "'GeForce RTX 2070'"
      ]
     },
     "execution_count": 3,
     "metadata": {},
     "output_type": "execute_result"
    }
   ],
   "source": [
    "torch.cuda.get_device_name(0)"
   ]
  },
  {
   "cell_type": "code",
   "execution_count": 4,
   "metadata": {},
   "outputs": [
    {
     "data": {
      "text/plain": [
       "PosixPath('/home/eric/Link_fastaiV1/data/cifar10')"
      ]
     },
     "execution_count": 4,
     "metadata": {},
     "output_type": "execute_result"
    }
   ],
   "source": [
    "path = untar_data(URLs.CIFAR)\n",
    "path"
   ]
  },
  {
   "cell_type": "code",
   "execution_count": 5,
   "metadata": {},
   "outputs": [],
   "source": [
    "bs = 96"
   ]
  },
  {
   "cell_type": "code",
   "execution_count": 6,
   "metadata": {},
   "outputs": [],
   "source": [
    "ds_tfms = ([*rand_pad(4, 32), flip_lr(p=0.5)], [])\n",
    "data = ImageDataBunch.from_folder(path, valid='test', ds_tfms=ds_tfms, bs=bs).normalize(cifar_stats)"
   ]
  },
  {
   "cell_type": "code",
   "execution_count": 7,
   "metadata": {},
   "outputs": [],
   "source": [
    "learn = Learner(data, wrn_22(), metrics=accuracy)"
   ]
  },
  {
   "cell_type": "code",
   "execution_count": 8,
   "metadata": {},
   "outputs": [
    {
     "name": "stdout",
     "output_type": "stream",
     "text": [
      "Total time: 26:01\n",
      "epoch  train_loss  valid_loss  accuracy\n",
      "1      1.075851    1.162977    0.594000  (00:52)\n",
      "2      0.859773    0.960344    0.667100  (00:51)\n",
      "3      0.715765    0.769971    0.734800  (00:52)\n",
      "4      0.634406    0.700795    0.758800  (00:52)\n",
      "5      0.597566    0.643136    0.778800  (00:52)\n",
      "6      0.535718    0.658778    0.775100  (00:52)\n",
      "7      0.516328    0.653311    0.774400  (00:52)\n",
      "8      0.544373    0.646228    0.782400  (00:52)\n",
      "9      0.521853    0.679267    0.772600  (00:52)\n",
      "10     0.553841    0.785207    0.739600  (00:52)\n",
      "11     0.562019    0.633445    0.783800  (00:52)\n",
      "12     0.535736    0.959463    0.688500  (00:52)\n",
      "13     0.565530    1.033451    0.691100  (00:52)\n",
      "14     0.577676    0.822554    0.731700  (00:52)\n",
      "15     0.567546    0.883269    0.713800  (00:51)\n",
      "16     0.593135    1.081843    0.655700  (00:51)\n",
      "17     0.560628    0.772155    0.736300  (00:51)\n",
      "18     0.530122    1.133595    0.645700  (00:51)\n",
      "19     0.531590    0.927356    0.688000  (00:51)\n",
      "20     0.497419    0.755280    0.747700  (00:51)\n",
      "21     0.472843    0.774300    0.737600  (00:51)\n",
      "22     0.444161    0.620662    0.798200  (00:51)\n",
      "23     0.395058    0.618920    0.796100  (00:51)\n",
      "24     0.337598    0.408077    0.865100  (00:51)\n",
      "25     0.289275    0.321917    0.891600  (00:52)\n",
      "26     0.237801    0.283041    0.905000  (00:51)\n",
      "27     0.180063    0.240134    0.917400  (00:51)\n",
      "28     0.137478    0.205011    0.930200  (00:51)\n",
      "29     0.102074    0.197145    0.934000  (00:51)\n",
      "30     0.092486    0.191730    0.935800  (00:51)\n",
      "\n"
     ]
    }
   ],
   "source": [
    "learn.fit_one_cycle(30, 3e-3, wd=0.4, div_factor=10, pct_start=0.5)"
   ]
  },
  {
   "cell_type": "code",
   "execution_count": null,
   "metadata": {},
   "outputs": [],
   "source": []
  },
  {
   "cell_type": "code",
   "execution_count": null,
   "metadata": {},
   "outputs": [],
   "source": []
  },
  {
   "cell_type": "code",
   "execution_count": null,
   "metadata": {},
   "outputs": [],
   "source": []
  }
 ],
 "metadata": {
  "kernelspec": {
   "display_name": "Python 3",
   "language": "python",
   "name": "python3"
  },
  "language_info": {
   "codemirror_mode": {
    "name": "ipython",
    "version": 3
   },
   "file_extension": ".py",
   "mimetype": "text/x-python",
   "name": "python",
   "nbconvert_exporter": "python",
   "pygments_lexer": "ipython3",
   "version": "3.7.0"
  }
 },
 "nbformat": 4,
 "nbformat_minor": 2
}
