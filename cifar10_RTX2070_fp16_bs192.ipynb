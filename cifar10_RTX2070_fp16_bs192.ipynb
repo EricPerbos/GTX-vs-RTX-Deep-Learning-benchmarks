{
 "cells": [
  {
   "cell_type": "code",
   "execution_count": 1,
   "metadata": {},
   "outputs": [],
   "source": [
    "%matplotlib inline\n",
    "from fastai import *\n",
    "from fastai.vision import *\n",
    "from fastai.vision.models.wrn import wrn_22\n",
    "\n",
    "torch.backends.cudnn.benchmark = True"
   ]
  },
  {
   "cell_type": "code",
   "execution_count": 2,
   "metadata": {},
   "outputs": [
    {
     "data": {
      "text/plain": [
       "0"
      ]
     },
     "execution_count": 2,
     "metadata": {},
     "output_type": "execute_result"
    }
   ],
   "source": [
    "torch.cuda.set_device(0)\n",
    "torch.cuda.current_device()"
   ]
  },
  {
   "cell_type": "code",
   "execution_count": 3,
   "metadata": {},
   "outputs": [
    {
     "data": {
      "text/plain": [
       "'GeForce RTX 2070'"
      ]
     },
     "execution_count": 3,
     "metadata": {},
     "output_type": "execute_result"
    }
   ],
   "source": [
    "torch.cuda.get_device_name(0)"
   ]
  },
  {
   "cell_type": "code",
   "execution_count": 4,
   "metadata": {},
   "outputs": [
    {
     "data": {
      "text/plain": [
       "PosixPath('/home/eric/Link_fastaiV1/data/cifar10')"
      ]
     },
     "execution_count": 4,
     "metadata": {},
     "output_type": "execute_result"
    }
   ],
   "source": [
    "path = untar_data(URLs.CIFAR)\n",
    "path"
   ]
  },
  {
   "cell_type": "code",
   "execution_count": 5,
   "metadata": {},
   "outputs": [],
   "source": [
    "batch = 192"
   ]
  },
  {
   "cell_type": "code",
   "execution_count": 6,
   "metadata": {},
   "outputs": [],
   "source": [
    "ds_tfms = ([*rand_pad(4, 32), flip_lr(p=0.5)], [])\n",
    "data = ImageDataBunch.from_folder(path, valid='test', ds_tfms=ds_tfms, bs=batch).normalize(cifar_stats)"
   ]
  },
  {
   "cell_type": "code",
   "execution_count": 7,
   "metadata": {},
   "outputs": [],
   "source": [
    "learn = Learner(data, wrn_22(), metrics=accuracy).to_fp16()"
   ]
  },
  {
   "cell_type": "code",
   "execution_count": 9,
   "metadata": {},
   "outputs": [
    {
     "name": "stdout",
     "output_type": "stream",
     "text": [
      "Total time: 23:13\n",
      "epoch  train_loss  valid_loss  accuracy\n",
      "1      1.147914    1.178952    0.578700  (00:47)\n",
      "2      0.881746    0.988242    0.657900  (00:45)\n",
      "3      0.718749    0.734613    0.747900  (00:46)\n",
      "4      0.613625    0.947931    0.689600  (00:46)\n",
      "5      0.548810    0.637154    0.782900  (00:46)\n",
      "6      0.542276    0.589283    0.801100  (00:46)\n",
      "7      0.486144    0.554942    0.805400  (00:46)\n",
      "8      0.470642    0.704911    0.767400  (00:46)\n",
      "9      0.454392    0.528693    0.823500  (00:46)\n",
      "10     0.452420    0.492342    0.831800  (00:46)\n",
      "11     0.440755    0.520695    0.827500  (00:46)\n",
      "12     0.429793    0.622058    0.796700  (00:46)\n",
      "13     0.426618    0.644783    0.779600  (00:46)\n",
      "14     0.447195    0.655111    0.791200  (00:46)\n",
      "15     0.439181    0.617889    0.795600  (00:46)\n",
      "16     0.434657    0.922036    0.699600  (00:46)\n",
      "17     0.426132    0.646397    0.789200  (00:46)\n",
      "18     0.406253    0.635338    0.794400  (00:46)\n",
      "19     0.372871    0.486792    0.836100  (00:46)\n",
      "20     0.353630    0.661145    0.789500  (00:46)\n",
      "21     0.332027    0.529157    0.827800  (00:46)\n",
      "22     0.291027    0.451564    0.849300  (00:46)\n",
      "23     0.257029    0.371033    0.872200  (00:46)\n",
      "24     0.215219    0.399909    0.870200  (00:46)\n",
      "25     0.174024    0.273833    0.908000  (00:46)\n",
      "26     0.127751    0.240515    0.921200  (00:46)\n",
      "27     0.083839    0.212944    0.932000  (00:46)\n",
      "28     0.064225    0.186099    0.939000  (00:46)\n",
      "29     0.043027    0.179236    0.941500  (00:46)\n",
      "30     0.036692    0.180466    0.940800  (00:46)\n",
      "\n"
     ]
    }
   ],
   "source": [
    "learn.fit_one_cycle(30, 3e-3, wd=0.4, div_factor=10, pct_start=0.5)"
   ]
  },
  {
   "cell_type": "code",
   "execution_count": null,
   "metadata": {},
   "outputs": [],
   "source": []
  }
 ],
 "metadata": {
  "kernelspec": {
   "display_name": "Python 3",
   "language": "python",
   "name": "python3"
  },
  "language_info": {
   "codemirror_mode": {
    "name": "ipython",
    "version": 3
   },
   "file_extension": ".py",
   "mimetype": "text/x-python",
   "name": "python",
   "nbconvert_exporter": "python",
   "pygments_lexer": "ipython3",
   "version": "3.7.0"
  }
 },
 "nbformat": 4,
 "nbformat_minor": 2
}
