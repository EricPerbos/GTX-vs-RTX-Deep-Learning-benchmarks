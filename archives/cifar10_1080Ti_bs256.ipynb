{
 "cells": [
  {
   "cell_type": "code",
   "execution_count": 1,
   "metadata": {},
   "outputs": [],
   "source": [
    "%matplotlib inline\n",
    "from fastai import *\n",
    "from fastai.vision import *\n",
    "from fastai.vision.models.wrn import wrn_22\n",
    "\n",
    "torch.backends.cudnn.benchmark = True"
   ]
  },
  {
   "cell_type": "code",
   "execution_count": 2,
   "metadata": {},
   "outputs": [
    {
     "data": {
      "text/plain": [
       "1"
      ]
     },
     "execution_count": 2,
     "metadata": {},
     "output_type": "execute_result"
    }
   ],
   "source": [
    "torch.cuda.set_device(1)\n",
    "torch.cuda.current_device()"
   ]
  },
  {
   "cell_type": "code",
   "execution_count": 3,
   "metadata": {},
   "outputs": [
    {
     "data": {
      "text/plain": [
       "'GeForce GTX 1080 Ti'"
      ]
     },
     "execution_count": 3,
     "metadata": {},
     "output_type": "execute_result"
    }
   ],
   "source": [
    "torch.cuda.get_device_name(1)"
   ]
  },
  {
   "cell_type": "code",
   "execution_count": 4,
   "metadata": {},
   "outputs": [
    {
     "data": {
      "text/plain": [
       "PosixPath('/home/eric/Link_fastaiV1/data/cifar10')"
      ]
     },
     "execution_count": 4,
     "metadata": {},
     "output_type": "execute_result"
    }
   ],
   "source": [
    "path = untar_data(URLs.CIFAR)\n",
    "path"
   ]
  },
  {
   "cell_type": "code",
   "execution_count": 5,
   "metadata": {},
   "outputs": [],
   "source": [
    "bs = 256"
   ]
  },
  {
   "cell_type": "code",
   "execution_count": 6,
   "metadata": {},
   "outputs": [],
   "source": [
    "ds_tfms = ([*rand_pad(4, 32), flip_lr(p=0.5)], [])\n",
    "data = ImageDataBunch.from_folder(path, valid='test', ds_tfms=ds_tfms, bs=bs).normalize(cifar_stats)"
   ]
  },
  {
   "cell_type": "code",
   "execution_count": 7,
   "metadata": {},
   "outputs": [],
   "source": [
    "learn = Learner(data, wrn_22(), metrics=accuracy)"
   ]
  },
  {
   "cell_type": "code",
   "execution_count": 8,
   "metadata": {},
   "outputs": [
    {
     "name": "stdout",
     "output_type": "stream",
     "text": [
      "Total time: 24:34\n",
      "epoch  train_loss  valid_loss  accuracy\n",
      "1      1.243097    1.355101    0.523200  (00:49)\n",
      "2      0.926344    0.966962    0.654600  (00:48)\n",
      "3      0.765565    1.024512    0.657000  (00:49)\n",
      "4      0.651826    0.735655    0.751400  (00:49)\n",
      "5      0.586148    0.647665    0.782300  (00:49)\n",
      "6      0.525593    0.594412    0.800900  (00:49)\n",
      "7      0.484251    0.783030    0.751300  (00:49)\n",
      "8      0.458655    0.597890    0.801300  (00:49)\n",
      "9      0.437866    0.600652    0.799900  (00:49)\n",
      "10     0.415301    0.590575    0.803300  (00:49)\n",
      "11     0.402749    0.584588    0.808500  (00:49)\n",
      "12     0.407688    0.459157    0.850300  (00:49)\n",
      "13     0.401183    0.604048    0.799300  (00:49)\n",
      "14     0.404382    0.601154    0.798000  (00:49)\n",
      "15     0.392253    0.682026    0.777300  (00:49)\n",
      "16     0.392434    0.613923    0.793000  (00:49)\n",
      "17     0.376716    0.624881    0.787700  (00:49)\n",
      "18     0.359491    0.681932    0.782000  (00:48)\n",
      "19     0.341932    0.467977    0.840800  (00:49)\n",
      "20     0.311171    0.526073    0.831300  (00:49)\n",
      "21     0.276502    0.449090    0.850000  (00:49)\n",
      "22     0.245929    0.385998    0.875500  (00:49)\n",
      "23     0.215981    0.343050    0.889100  (00:49)\n",
      "24     0.178036    0.335810    0.887600  (00:49)\n",
      "25     0.139145    0.291978    0.906900  (00:49)\n",
      "26     0.106027    0.250363    0.920200  (00:48)\n",
      "27     0.069697    0.210972    0.935900  (00:49)\n",
      "28     0.048309    0.208429    0.939500  (00:49)\n",
      "29     0.033148    0.193492    0.943400  (00:49)\n",
      "30     0.027103    0.193517    0.942400  (00:48)\n",
      "\n"
     ]
    }
   ],
   "source": [
    "learn.fit_one_cycle(30, 3e-3, wd=0.4, div_factor=10, pct_start=0.5)"
   ]
  }
 ],
 "metadata": {
  "kernelspec": {
   "display_name": "Python 3",
   "language": "python",
   "name": "python3"
  },
  "language_info": {
   "codemirror_mode": {
    "name": "ipython",
    "version": 3
   },
   "file_extension": ".py",
   "mimetype": "text/x-python",
   "name": "python",
   "nbconvert_exporter": "python",
   "pygments_lexer": "ipython3",
   "version": "3.7.0"
  }
 },
 "nbformat": 4,
 "nbformat_minor": 2
}
