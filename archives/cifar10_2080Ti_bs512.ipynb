{
 "cells": [
  {
   "cell_type": "code",
   "execution_count": 1,
   "metadata": {},
   "outputs": [],
   "source": [
    "%matplotlib inline\n",
    "from fastai import *\n",
    "from fastai.vision import *\n",
    "from fastai.vision.models.wrn import wrn_22\n",
    "\n",
    "torch.backends.cudnn.benchmark = True"
   ]
  },
  {
   "cell_type": "code",
   "execution_count": 2,
   "metadata": {},
   "outputs": [
    {
     "data": {
      "text/plain": [
       "0"
      ]
     },
     "execution_count": 2,
     "metadata": {},
     "output_type": "execute_result"
    }
   ],
   "source": [
    "torch.cuda.set_device(0)\n",
    "torch.cuda.current_device()"
   ]
  },
  {
   "cell_type": "code",
   "execution_count": 3,
   "metadata": {},
   "outputs": [
    {
     "data": {
      "text/plain": [
       "'GeForce RTX 2080 Ti'"
      ]
     },
     "execution_count": 3,
     "metadata": {},
     "output_type": "execute_result"
    }
   ],
   "source": [
    "torch.cuda.get_device_name(0)"
   ]
  },
  {
   "cell_type": "code",
   "execution_count": 4,
   "metadata": {},
   "outputs": [
    {
     "data": {
      "text/plain": [
       "PosixPath('/home/eric/Link_fastaiV1/data/cifar10')"
      ]
     },
     "execution_count": 4,
     "metadata": {},
     "output_type": "execute_result"
    }
   ],
   "source": [
    "path = untar_data(URLs.CIFAR)\n",
    "path"
   ]
  },
  {
   "cell_type": "code",
   "execution_count": 5,
   "metadata": {},
   "outputs": [],
   "source": [
    "bs = 512"
   ]
  },
  {
   "cell_type": "code",
   "execution_count": 6,
   "metadata": {},
   "outputs": [],
   "source": [
    "ds_tfms = ([*rand_pad(4, 32), flip_lr(p=0.5)], [])\n",
    "data = ImageDataBunch.from_folder(path, valid='test', ds_tfms=ds_tfms, bs=bs).normalize(cifar_stats)"
   ]
  },
  {
   "cell_type": "code",
   "execution_count": 7,
   "metadata": {},
   "outputs": [],
   "source": [
    "learn = Learner(data, wrn_22(), metrics=accuracy)"
   ]
  },
  {
   "cell_type": "code",
   "execution_count": 9,
   "metadata": {},
   "outputs": [
    {
     "name": "stdout",
     "output_type": "stream",
     "text": [
      "Total time: 17:40\n",
      "epoch  train_loss  valid_loss  accuracy\n",
      "1      1.418328    1.341092    0.509600  (00:37)\n",
      "2      1.069006    1.000117    0.643100  (00:34)\n",
      "3      0.860721    2.222295    0.450200  (00:34)\n",
      "4      0.709458    0.970203    0.678300  (00:34)\n",
      "5      0.625652    0.664824    0.773100  (00:34)\n",
      "6      0.546948    0.937697    0.694200  (00:35)\n",
      "7      0.497537    0.573866    0.803400  (00:35)\n",
      "8      0.457764    0.724360    0.756700  (00:35)\n",
      "9      0.432094    0.694848    0.770300  (00:35)\n",
      "10     0.407572    0.685099    0.773700  (00:35)\n",
      "11     0.391387    0.681212    0.776200  (00:35)\n",
      "12     0.372926    0.611625    0.804500  (00:35)\n",
      "13     0.362059    0.648318    0.790800  (00:35)\n",
      "14     0.344850    0.583459    0.811400  (00:35)\n",
      "15     0.335072    0.499785    0.838900  (00:35)\n",
      "16     0.325910    0.445130    0.850300  (00:35)\n",
      "17     0.307663    0.511993    0.833800  (00:35)\n",
      "18     0.287150    0.459883    0.848800  (00:35)\n",
      "19     0.263777    0.604457    0.815700  (00:35)\n",
      "20     0.236181    0.394391    0.872600  (00:35)\n",
      "21     0.209249    0.384810    0.877300  (00:35)\n",
      "22     0.179162    0.365190    0.883000  (00:35)\n",
      "23     0.154936    0.334060    0.895300  (00:35)\n",
      "24     0.119154    0.277520    0.912500  (00:35)\n",
      "25     0.089783    0.249112    0.924300  (00:35)\n",
      "26     0.063390    0.238442    0.930900  (00:35)\n",
      "27     0.040989    0.231547    0.935300  (00:35)\n",
      "28     0.030384    0.225979    0.939700  (00:35)\n",
      "29     0.021631    0.217399    0.939600  (00:35)\n",
      "30     0.016960    0.218951    0.938400  (00:35)\n",
      "\n"
     ]
    }
   ],
   "source": [
    "learn.fit_one_cycle(30, 3e-3, wd=0.4, div_factor=10, pct_start=0.5)"
   ]
  },
  {
   "cell_type": "code",
   "execution_count": null,
   "metadata": {},
   "outputs": [],
   "source": []
  }
 ],
 "metadata": {
  "kernelspec": {
   "display_name": "Python 3",
   "language": "python",
   "name": "python3"
  },
  "language_info": {
   "codemirror_mode": {
    "name": "ipython",
    "version": 3
   },
   "file_extension": ".py",
   "mimetype": "text/x-python",
   "name": "python",
   "nbconvert_exporter": "python",
   "pygments_lexer": "ipython3",
   "version": "3.7.0"
  }
 },
 "nbformat": 4,
 "nbformat_minor": 2
}
