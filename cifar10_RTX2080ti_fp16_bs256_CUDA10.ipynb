{
 "cells": [
  {
   "cell_type": "code",
   "execution_count": 1,
   "metadata": {},
   "outputs": [],
   "source": [
    "%matplotlib inline\n",
    "from fastai import *\n",
    "from fastai.vision import *\n",
    "from fastai.vision.models.wrn import wrn_22\n",
    "\n",
    "torch.backends.cudnn.benchmark = True"
   ]
  },
  {
   "cell_type": "code",
   "execution_count": 2,
   "metadata": {},
   "outputs": [
    {
     "data": {
      "text/plain": [
       "0"
      ]
     },
     "execution_count": 2,
     "metadata": {},
     "output_type": "execute_result"
    }
   ],
   "source": [
    "torch.cuda.set_device(0)\n",
    "torch.cuda.current_device()"
   ]
  },
  {
   "cell_type": "code",
   "execution_count": 3,
   "metadata": {},
   "outputs": [
    {
     "data": {
      "text/plain": [
       "'GeForce RTX 2080 Ti'"
      ]
     },
     "execution_count": 3,
     "metadata": {},
     "output_type": "execute_result"
    }
   ],
   "source": [
    "torch.cuda.get_device_name(0)"
   ]
  },
  {
   "cell_type": "code",
   "execution_count": 4,
   "metadata": {},
   "outputs": [
    {
     "data": {
      "text/plain": [
       "PosixPath('/home/eric/Link_fastaiV1/data/cifar10')"
      ]
     },
     "execution_count": 4,
     "metadata": {},
     "output_type": "execute_result"
    }
   ],
   "source": [
    "path = untar_data(URLs.CIFAR)\n",
    "path"
   ]
  },
  {
   "cell_type": "code",
   "execution_count": 5,
   "metadata": {},
   "outputs": [],
   "source": [
    "batch = 256"
   ]
  },
  {
   "cell_type": "code",
   "execution_count": 6,
   "metadata": {},
   "outputs": [],
   "source": [
    "ds_tfms = ([*rand_pad(4, 32), flip_lr(p=0.5)], [])\n",
    "data = ImageDataBunch.from_folder(path, valid='test', ds_tfms=ds_tfms, bs=batch).normalize(cifar_stats)"
   ]
  },
  {
   "cell_type": "code",
   "execution_count": 7,
   "metadata": {},
   "outputs": [],
   "source": [
    "learn = Learner(data, wrn_22(), metrics=accuracy).to_fp16()"
   ]
  },
  {
   "cell_type": "code",
   "execution_count": 8,
   "metadata": {},
   "outputs": [
    {
     "name": "stdout",
     "output_type": "stream",
     "text": [
      "Total time: 13:17\n",
      "epoch  train_loss  valid_loss  accuracy\n",
      "1      1.189719    1.389490    0.516100  (00:27)\n",
      "2      0.905411    0.915922    0.679800  (00:25)\n",
      "3      0.738663    0.971958    0.675400  (00:25)\n",
      "4      0.634224    0.672306    0.769200  (00:25)\n",
      "5      0.579760    0.840289    0.720300  (00:26)\n",
      "6      0.524719    0.694591    0.763900  (00:26)\n",
      "7      0.492112    0.582054    0.801200  (00:26)\n",
      "8      0.456174    0.727115    0.767100  (00:26)\n",
      "9      0.447955    0.617549    0.789200  (00:26)\n",
      "10     0.429023    0.579255    0.804000  (00:26)\n",
      "11     0.409805    0.611281    0.795500  (00:26)\n",
      "12     0.404319    0.533578    0.824600  (00:26)\n",
      "13     0.400102    0.676937    0.765000  (00:26)\n",
      "14     0.392921    0.739791    0.753500  (00:26)\n",
      "15     0.393622    0.814642    0.756500  (00:26)\n",
      "16     0.400493    1.091828    0.686500  (00:26)\n",
      "17     0.368298    0.626022    0.793300  (00:26)\n",
      "18     0.367555    0.825020    0.742100  (00:26)\n",
      "19     0.343992    0.455509    0.845800  (00:26)\n",
      "20     0.306501    0.551371    0.828100  (00:26)\n",
      "21     0.287316    0.600839    0.813500  (00:26)\n",
      "22     0.253890    0.573974    0.821600  (00:26)\n",
      "23     0.216983    0.438259    0.861500  (00:26)\n",
      "24     0.177681    0.351948    0.886800  (00:26)\n",
      "25     0.144693    0.292218    0.910600  (00:26)\n",
      "26     0.106599    0.223779    0.929300  (00:27)\n",
      "27     0.071905    0.210244    0.933200  (00:27)\n",
      "28     0.049203    0.198303    0.938500  (00:27)\n",
      "29     0.035962    0.194231    0.943000  (00:27)\n",
      "30     0.028673    0.195100    0.941900  (00:27)\n",
      "\n"
     ]
    }
   ],
   "source": [
    "learn.fit_one_cycle(30, 3e-3, wd=0.4, div_factor=10, pct_start=0.5)"
   ]
  },
  {
   "cell_type": "code",
   "execution_count": null,
   "metadata": {},
   "outputs": [],
   "source": []
  }
 ],
 "metadata": {
  "kernelspec": {
   "display_name": "Python 3",
   "language": "python",
   "name": "python3"
  },
  "language_info": {
   "codemirror_mode": {
    "name": "ipython",
    "version": 3
   },
   "file_extension": ".py",
   "mimetype": "text/x-python",
   "name": "python",
   "nbconvert_exporter": "python",
   "pygments_lexer": "ipython3",
   "version": "3.7.0"
  }
 },
 "nbformat": 4,
 "nbformat_minor": 2
}
